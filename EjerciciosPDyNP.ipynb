{
  "nbformat": 4,
  "nbformat_minor": 0,
  "metadata": {
    "colab": {
      "provenance": [],
      "mount_file_id": "1B-RB1mTagcWnFR7AIVbIe6_dIEX1rLBB",
      "authorship_tag": "ABX9TyPjycUWfP6ZIJ+z0FxVUW3T",
      "include_colab_link": true
    },
    "kernelspec": {
      "name": "python3",
      "display_name": "Python 3"
    },
    "language_info": {
      "name": "python"
    }
  },
  "cells": [
    {
      "cell_type": "markdown",
      "metadata": {
        "id": "view-in-github",
        "colab_type": "text"
      },
      "source": [
        "<a href=\"https://colab.research.google.com/github/SebastianJoa/Colaboratibe/blob/main/EjerciciosPDyNP.ipynb\" target=\"_parent\"><img src=\"https://colab.research.google.com/assets/colab-badge.svg\" alt=\"Open In Colab\"/></a>"
      ]
    },
    {
      "cell_type": "code",
      "source": [
        "import pandas as pd\n",
        "import numpy as np"
      ],
      "metadata": {
        "id": "rHHj-DZt0L-c"
      },
      "execution_count": 41,
      "outputs": []
    },
    {
      "cell_type": "markdown",
      "source": [
        "# **Ejercicio 1**\n",
        "Programa una pregunta al usuario por las ventas de un rango de años y que muestre por pantalla una serie con los datos de las ventas indexadas por los años, antes y despues de aplicarles un descuento del 5%."
      ],
      "metadata": {
        "id": "H-GXpj8b0YXD"
      }
    },
    {
      "cell_type": "code",
      "source": [
        "inicio = int(input('Introduce el año inicial: '))\n",
        "fin = int(input('Introduce el año final: '))\n",
        "ventas = {}\n",
        "for i in range(inicio, fin+1):\n",
        "    ventas[i] = float(input('Introduce las ventas del año ' + str(i) +': '))\n",
        "    ventas = pd.Series(ventas)\n",
        "print(\"Ventas\\n\")\n",
        "print(ventas)\n",
        "print(\"Ventas con descuento\\n\")\n",
        "print(ventas*0.95)\n"
      ],
      "metadata": {
        "colab": {
          "base_uri": "https://localhost:8080/",
          "height": 356
        },
        "id": "Dv1O6XQY0bAz",
        "outputId": "a6d1744d-3aa7-4e4e-fde7-be958ebe8c2f"
      },
      "execution_count": 42,
      "outputs": [
        {
          "output_type": "error",
          "ename": "KeyboardInterrupt",
          "evalue": "Interrupted by user",
          "traceback": [
            "\u001b[0;31m---------------------------------------------------------------------------\u001b[0m",
            "\u001b[0;31mKeyboardInterrupt\u001b[0m                         Traceback (most recent call last)",
            "\u001b[0;32m/tmp/ipython-input-3894850503.py\u001b[0m in \u001b[0;36m<cell line: 0>\u001b[0;34m()\u001b[0m\n\u001b[0;32m----> 1\u001b[0;31m \u001b[0minicio\u001b[0m \u001b[0;34m=\u001b[0m \u001b[0mint\u001b[0m\u001b[0;34m(\u001b[0m\u001b[0minput\u001b[0m\u001b[0;34m(\u001b[0m\u001b[0;34m'Introduce el año inicial: '\u001b[0m\u001b[0;34m)\u001b[0m\u001b[0;34m)\u001b[0m\u001b[0;34m\u001b[0m\u001b[0;34m\u001b[0m\u001b[0m\n\u001b[0m\u001b[1;32m      2\u001b[0m \u001b[0mfin\u001b[0m \u001b[0;34m=\u001b[0m \u001b[0mint\u001b[0m\u001b[0;34m(\u001b[0m\u001b[0minput\u001b[0m\u001b[0;34m(\u001b[0m\u001b[0;34m'Introduce el año final: '\u001b[0m\u001b[0;34m)\u001b[0m\u001b[0;34m)\u001b[0m\u001b[0;34m\u001b[0m\u001b[0;34m\u001b[0m\u001b[0m\n\u001b[1;32m      3\u001b[0m \u001b[0mventas\u001b[0m \u001b[0;34m=\u001b[0m \u001b[0;34m{\u001b[0m\u001b[0;34m}\u001b[0m\u001b[0;34m\u001b[0m\u001b[0;34m\u001b[0m\u001b[0m\n\u001b[1;32m      4\u001b[0m \u001b[0;32mfor\u001b[0m \u001b[0mi\u001b[0m \u001b[0;32min\u001b[0m \u001b[0mrange\u001b[0m\u001b[0;34m(\u001b[0m\u001b[0minicio\u001b[0m\u001b[0;34m,\u001b[0m \u001b[0mfin\u001b[0m\u001b[0;34m+\u001b[0m\u001b[0;36m1\u001b[0m\u001b[0;34m)\u001b[0m\u001b[0;34m:\u001b[0m\u001b[0;34m\u001b[0m\u001b[0;34m\u001b[0m\u001b[0m\n\u001b[1;32m      5\u001b[0m     \u001b[0mventas\u001b[0m\u001b[0;34m[\u001b[0m\u001b[0mi\u001b[0m\u001b[0;34m]\u001b[0m \u001b[0;34m=\u001b[0m \u001b[0mfloat\u001b[0m\u001b[0;34m(\u001b[0m\u001b[0minput\u001b[0m\u001b[0;34m(\u001b[0m\u001b[0;34m'Introduce las ventas del año '\u001b[0m \u001b[0;34m+\u001b[0m \u001b[0mstr\u001b[0m\u001b[0;34m(\u001b[0m\u001b[0mi\u001b[0m\u001b[0;34m)\u001b[0m \u001b[0;34m+\u001b[0m\u001b[0;34m': '\u001b[0m\u001b[0;34m)\u001b[0m\u001b[0;34m)\u001b[0m\u001b[0;34m\u001b[0m\u001b[0;34m\u001b[0m\u001b[0m\n",
            "\u001b[0;32m/usr/local/lib/python3.11/dist-packages/ipykernel/kernelbase.py\u001b[0m in \u001b[0;36mraw_input\u001b[0;34m(self, prompt)\u001b[0m\n\u001b[1;32m   1175\u001b[0m                 \u001b[0;34m\"raw_input was called, but this frontend does not support input requests.\"\u001b[0m\u001b[0;34m\u001b[0m\u001b[0;34m\u001b[0m\u001b[0m\n\u001b[1;32m   1176\u001b[0m             )\n\u001b[0;32m-> 1177\u001b[0;31m         return self._input_request(\n\u001b[0m\u001b[1;32m   1178\u001b[0m             \u001b[0mstr\u001b[0m\u001b[0;34m(\u001b[0m\u001b[0mprompt\u001b[0m\u001b[0;34m)\u001b[0m\u001b[0;34m,\u001b[0m\u001b[0;34m\u001b[0m\u001b[0;34m\u001b[0m\u001b[0m\n\u001b[1;32m   1179\u001b[0m             \u001b[0mself\u001b[0m\u001b[0;34m.\u001b[0m\u001b[0m_parent_ident\u001b[0m\u001b[0;34m[\u001b[0m\u001b[0;34m\"shell\"\u001b[0m\u001b[0;34m]\u001b[0m\u001b[0;34m,\u001b[0m\u001b[0;34m\u001b[0m\u001b[0;34m\u001b[0m\u001b[0m\n",
            "\u001b[0;32m/usr/local/lib/python3.11/dist-packages/ipykernel/kernelbase.py\u001b[0m in \u001b[0;36m_input_request\u001b[0;34m(self, prompt, ident, parent, password)\u001b[0m\n\u001b[1;32m   1217\u001b[0m             \u001b[0;32mexcept\u001b[0m \u001b[0mKeyboardInterrupt\u001b[0m\u001b[0;34m:\u001b[0m\u001b[0;34m\u001b[0m\u001b[0;34m\u001b[0m\u001b[0m\n\u001b[1;32m   1218\u001b[0m                 \u001b[0;31m# re-raise KeyboardInterrupt, to truncate traceback\u001b[0m\u001b[0;34m\u001b[0m\u001b[0;34m\u001b[0m\u001b[0m\n\u001b[0;32m-> 1219\u001b[0;31m                 \u001b[0;32mraise\u001b[0m \u001b[0mKeyboardInterrupt\u001b[0m\u001b[0;34m(\u001b[0m\u001b[0;34m\"Interrupted by user\"\u001b[0m\u001b[0;34m)\u001b[0m \u001b[0;32mfrom\u001b[0m \u001b[0;32mNone\u001b[0m\u001b[0;34m\u001b[0m\u001b[0;34m\u001b[0m\u001b[0m\n\u001b[0m\u001b[1;32m   1220\u001b[0m             \u001b[0;32mexcept\u001b[0m \u001b[0mException\u001b[0m\u001b[0;34m:\u001b[0m\u001b[0;34m\u001b[0m\u001b[0;34m\u001b[0m\u001b[0m\n\u001b[1;32m   1221\u001b[0m                 \u001b[0mself\u001b[0m\u001b[0;34m.\u001b[0m\u001b[0mlog\u001b[0m\u001b[0;34m.\u001b[0m\u001b[0mwarning\u001b[0m\u001b[0;34m(\u001b[0m\u001b[0;34m\"Invalid Message:\"\u001b[0m\u001b[0;34m,\u001b[0m \u001b[0mexc_info\u001b[0m\u001b[0;34m=\u001b[0m\u001b[0;32mTrue\u001b[0m\u001b[0;34m)\u001b[0m\u001b[0;34m\u001b[0m\u001b[0;34m\u001b[0m\u001b[0m\n",
            "\u001b[0;31mKeyboardInterrupt\u001b[0m: Interrupted by user"
          ]
        }
      ]
    },
    {
      "cell_type": "markdown",
      "source": [],
      "metadata": {
        "id": "CV8yDtYg02WK"
      }
    },
    {
      "cell_type": "markdown",
      "source": [
        "# **TAREA:**\n",
        "Modificar el eercicio anterior para que proyecte los ultimos 10 años pares de ventas"
      ],
      "metadata": {
        "id": "9TjjH2A-5o-L"
      }
    },
    {
      "cell_type": "code",
      "source": [
        "inicio = int(input('Introduce el año inicial: '))\n",
        "fin = int(input('Introduce el año final: '))\n",
        "ventas = {}\n",
        "for i in range(inicio, fin+1):\n",
        "  if i%2 == 0:\n",
        "    ventas[i] = float(input('Introduce las ventas del año ' + str(i) +': '))\n",
        "    ventas = pd.Series(ventas)\n",
        "    ultimos_10 = ventas.sort_index().tail(10)\n",
        "print(\"\\nVentas (últimos 10 años pares):\\n\")\n",
        "print(ultimos_10)\n",
        "print(\"\\nVentas con descuento del 5%:\\n\")\n",
        "print(ultimos_10 * 0.95)\n"
      ],
      "metadata": {
        "id": "FU6LC86f5xHs"
      },
      "execution_count": null,
      "outputs": []
    },
    {
      "cell_type": "markdown",
      "source": [
        "# **Ejercicio 2 :**\n",
        "Càlculo de estadisticas basicas: media, mediana desviacion estandar - numpy para el dataFrame\n"
      ],
      "metadata": {
        "id": "Mvbq_xnnAksN"
      }
    },
    {
      "cell_type": "code",
      "source": [
        "#Crear un dataFrame\n",
        "#Calcular la media\n",
        "data = {'Nombre':['Jose', 'Juan', 'Maria', 'Pedro'],\n",
        "        'Edad':[32, 28, 45, 21],\n",
        "        'Ciudad':['Huancayo', 'Arequipa', 'Trujillo', 'Lima']}\n",
        "df = pd.DataFrame(data)\n",
        "media_edad = np.mean(df['Edad']);\n",
        "print(media_edad)\n",
        "\n",
        "#Calcular la mediana\n",
        "mediana_edad = np.median(df['Edad']);\n",
        "print(mediana_edad)\n",
        "\n",
        "#Calcular la desviacion estandar\n",
        "desviacion_edad = np.std(df['Edad']);\n",
        "print(desviacion_edad)\n",
        "\n",
        "maximo = np.max(df['Edad']);\n",
        "print(maximo)\n",
        "\n",
        "minimo = np.min(df['Edad']);\n",
        "print(minimo)\n"
      ],
      "metadata": {
        "colab": {
          "base_uri": "https://localhost:8080/"
        },
        "id": "CoeHsrHWHOIV",
        "outputId": "180b9967-a289-438c-9438-6e6f29e338d9"
      },
      "execution_count": 52,
      "outputs": [
        {
          "output_type": "stream",
          "name": "stdout",
          "text": [
            "31.5\n",
            "30.0\n",
            "8.73212459828649\n",
            "45\n",
            "21\n"
          ]
        }
      ]
    }
  ]
}