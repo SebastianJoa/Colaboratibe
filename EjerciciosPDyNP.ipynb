{
  "nbformat": 4,
  "nbformat_minor": 0,
  "metadata": {
    "colab": {
      "provenance": [],
      "authorship_tag": "ABX9TyMsXQr7zpjji1lvQ86Ohe9n",
      "include_colab_link": true
    },
    "kernelspec": {
      "name": "python3",
      "display_name": "Python 3"
    },
    "language_info": {
      "name": "python"
    }
  },
  "cells": [
    {
      "cell_type": "markdown",
      "metadata": {
        "id": "view-in-github",
        "colab_type": "text"
      },
      "source": [
        "<a href=\"https://colab.research.google.com/github/SebastianJoa/Colaboratibe/blob/main/EjerciciosPDyNP.ipynb\" target=\"_parent\"><img src=\"https://colab.research.google.com/assets/colab-badge.svg\" alt=\"Open In Colab\"/></a>"
      ]
    },
    {
      "cell_type": "code",
      "source": [
        "import pandas as pd\n",
        "import numpy as np"
      ],
      "metadata": {
        "id": "rHHj-DZt0L-c"
      },
      "execution_count": 18,
      "outputs": []
    },
    {
      "cell_type": "markdown",
      "source": [
        "# **Ejercicio 1**\n",
        "\n",
        "Programa una pregunta al usuario por las ventas de un rango de años y que muestre por pantalla una serie con los datos de las ventas indexadas por los años, antes y despues de aplicarles un descuento del 5%."
      ],
      "metadata": {
        "id": "H-GXpj8b0YXD"
      }
    },
    {
      "cell_type": "code",
      "source": [
        "inicio = int(input('Introduce el año inicial: '))\n",
        "fin = int(input('Introduce el año final: '))\n",
        "ventas = {}\n",
        "for i in range(inicio, fin+1):\n",
        "    ventas[i] = float(input('Introduce las ventas del año ' + str(i) +': '))\n",
        "    ventas = pd.Series(ventas)\n",
        "print(\"Ventas\\n\")\n",
        "print(ventas)\n",
        "print(\"Ventas con descuento\\n\")\n",
        "print(ventas*0.95)\n"
      ],
      "metadata": {
        "colab": {
          "base_uri": "https://localhost:8080/"
        },
        "id": "Dv1O6XQY0bAz",
        "outputId": "ff7b7f42-6daf-46b1-af2d-4e756b40489a"
      },
      "execution_count": 25,
      "outputs": [
        {
          "output_type": "stream",
          "name": "stdout",
          "text": [
            "Introduce el año inicial: 10\n",
            "Introduce el año final: 12\n",
            "Introduce las ventas del año 10: 5\n",
            "Introduce las ventas del año 11: 10\n",
            "Introduce las ventas del año 12: 15\n",
            "Ventas\n",
            "\n",
            "10     5.0\n",
            "11    10.0\n",
            "12    15.0\n",
            "dtype: float64\n",
            "Ventas con descuento\n",
            "\n",
            "10     4.75\n",
            "11     9.50\n",
            "12    14.25\n",
            "dtype: float64\n"
          ]
        }
      ]
    },
    {
      "cell_type": "code",
      "source": [
        "\n"
      ],
      "metadata": {
        "id": "xTzKshnj2YBE"
      },
      "execution_count": 19,
      "outputs": []
    },
    {
      "cell_type": "markdown",
      "source": [],
      "metadata": {
        "id": "CV8yDtYg02WK"
      }
    }
  ]
}