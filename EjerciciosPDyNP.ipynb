{
  "nbformat": 4,
  "nbformat_minor": 0,
  "metadata": {
    "colab": {
      "provenance": [],
      "authorship_tag": "ABX9TyOS0ddXfhXKPFIfI7wnV6m3",
      "include_colab_link": true
    },
    "kernelspec": {
      "name": "python3",
      "display_name": "Python 3"
    },
    "language_info": {
      "name": "python"
    }
  },
  "cells": [
    {
      "cell_type": "markdown",
      "metadata": {
        "id": "view-in-github",
        "colab_type": "text"
      },
      "source": [
        "<a href=\"https://colab.research.google.com/github/SebastianJoa/Colaboratibe/blob/main/EjerciciosPDyNP.ipynb\" target=\"_parent\"><img src=\"https://colab.research.google.com/assets/colab-badge.svg\" alt=\"Open In Colab\"/></a>"
      ]
    },
    {
      "cell_type": "code",
      "source": [
        "import pandas as pd\n",
        "import numpy as np"
      ],
      "metadata": {
        "id": "rHHj-DZt0L-c"
      },
      "execution_count": 18,
      "outputs": []
    },
    {
      "cell_type": "markdown",
      "source": [
        "# **Ejercicio 1**\n",
        "Programa una pregunta al usuario por las ventas de un rango de años y que muestre por pantalla una serie con los datos de las ventas indexadas por los años, antes y despues de aplicarles un descuento del 5%."
      ],
      "metadata": {
        "id": "H-GXpj8b0YXD"
      }
    },
    {
      "cell_type": "code",
      "source": [
        "inicio = int(input('Introduce el año inicial: '))\n",
        "fin = int(input('Introduce el año final: '))\n",
        "ventas = {}\n",
        "for i in range(inicio, fin+1):\n",
        "    ventas[i] = float(input('Introduce las ventas del año ' + str(i) +': '))\n",
        "    ventas = pd.Series(ventas)\n",
        "print(\"Ventas\\n\")\n",
        "print(ventas)\n",
        "print(\"Ventas con descuento\\n\")\n",
        "print(ventas*0.95)\n"
      ],
      "metadata": {
        "colab": {
          "base_uri": "https://localhost:8080/"
        },
        "id": "Dv1O6XQY0bAz",
        "outputId": "ff7b7f42-6daf-46b1-af2d-4e756b40489a"
      },
      "execution_count": 25,
      "outputs": [
        {
          "output_type": "stream",
          "name": "stdout",
          "text": [
            "Introduce el año inicial: 10\n",
            "Introduce el año final: 12\n",
            "Introduce las ventas del año 10: 5\n",
            "Introduce las ventas del año 11: 10\n",
            "Introduce las ventas del año 12: 15\n",
            "Ventas\n",
            "\n",
            "10     5.0\n",
            "11    10.0\n",
            "12    15.0\n",
            "dtype: float64\n",
            "Ventas con descuento\n",
            "\n",
            "10     4.75\n",
            "11     9.50\n",
            "12    14.25\n",
            "dtype: float64\n"
          ]
        }
      ]
    },
    {
      "cell_type": "markdown",
      "source": [],
      "metadata": {
        "id": "CV8yDtYg02WK"
      }
    },
    {
      "cell_type": "markdown",
      "source": [
        "# **TAREA:**\n",
        "Modificar el eercicio anterior para que proyecte los ultimos 10 años pares de ventas"
      ],
      "metadata": {
        "id": "9TjjH2A-5o-L"
      }
    },
    {
      "cell_type": "code",
      "source": [
        "inicio = int(input('Introduce el año inicial: '))\n",
        "fin = int(input('Introduce el año final: '))\n",
        "ventas = {}\n",
        "for i in range(inicio, fin+1):\n",
        "  if i%2 == 0:\n",
        "    ventas[i] = float(input('Introduce las ventas del año ' + str(i) +': '))\n",
        "    ventas = pd.Series(ventas)\n",
        "    ultimos_10 = ventas.sort_index().tail(10)\n",
        "print(\"\\nVentas (últimos 10 años pares):\\n\")\n",
        "print(ultimos_10)\n",
        "print(\"\\nVentas con descuento del 5%:\\n\")\n",
        "print(ultimos_10 * 0.95)\n"
      ],
      "metadata": {
        "colab": {
          "base_uri": "https://localhost:8080/"
        },
        "id": "FU6LC86f5xHs",
        "outputId": "7a65b63b-b138-4ac9-8b07-5733c3785a53"
      },
      "execution_count": 34,
      "outputs": [
        {
          "output_type": "stream",
          "name": "stdout",
          "text": [
            "Introduce el año inicial: 0\n",
            "Introduce el año final: 26\n",
            "Introduce las ventas del año 0: 3\n",
            "Introduce las ventas del año 2: 5\n",
            "Introduce las ventas del año 4: 1\n",
            "Introduce las ventas del año 6: 2\n",
            "Introduce las ventas del año 8: 4\n",
            "Introduce las ventas del año 10: 5\n",
            "Introduce las ventas del año 12: 3\n",
            "Introduce las ventas del año 14: 1\n",
            "Introduce las ventas del año 16: 2\n",
            "Introduce las ventas del año 18: 5\n",
            "Introduce las ventas del año 20: 3\n",
            "Introduce las ventas del año 22: 2\n",
            "Introduce las ventas del año 24: 2\n",
            "Introduce las ventas del año 26: 4\n",
            "\n",
            "Ventas (últimos 10 años pares):\n",
            "\n",
            "8     4.0\n",
            "10    5.0\n",
            "12    3.0\n",
            "14    1.0\n",
            "16    2.0\n",
            "18    5.0\n",
            "20    3.0\n",
            "22    2.0\n",
            "24    2.0\n",
            "26    4.0\n",
            "dtype: float64\n",
            "\n",
            "Ventas con descuento del 5%:\n",
            "\n",
            "8     3.80\n",
            "10    4.75\n",
            "12    2.85\n",
            "14    0.95\n",
            "16    1.90\n",
            "18    4.75\n",
            "20    2.85\n",
            "22    1.90\n",
            "24    1.90\n",
            "26    3.80\n",
            "dtype: float64\n"
          ]
        }
      ]
    },
    {
      "cell_type": "markdown",
      "source": [
        "# **Ejercicio 2 :**\n",
        "Càlculo de estadisticas basicas:\n"
      ],
      "metadata": {
        "id": "Mvbq_xnnAksN"
      }
    },
    {
      "cell_type": "code",
      "source": [],
      "metadata": {
        "id": "I6WnaDANA51s"
      },
      "execution_count": null,
      "outputs": []
    }
  ]
}