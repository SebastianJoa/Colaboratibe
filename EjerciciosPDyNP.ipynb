{
  "nbformat": 4,
  "nbformat_minor": 0,
  "metadata": {
    "colab": {
      "provenance": [],
      "mount_file_id": "1B-RB1mTagcWnFR7AIVbIe6_dIEX1rLBB",
      "authorship_tag": "ABX9TyPjycUWfP6ZIJ+z0FxVUW3T",
      "include_colab_link": true
    },
    "kernelspec": {
      "name": "python3",
      "display_name": "Python 3"
    },
    "language_info": {
      "name": "python"
    }
  },
  "cells": [
    {
      "cell_type": "markdown",
      "metadata": {
        "id": "view-in-github",
        "colab_type": "text"
      },
      "source": [
        "<a href=\"https://colab.research.google.com/github/SebastianJoa/Colaboratibe/blob/main/EjerciciosPDyNP.ipynb\" target=\"_parent\"><img src=\"https://colab.research.google.com/assets/colab-badge.svg\" alt=\"Open In Colab\"/></a>"
      ]
    },
    {
      "cell_type": "code",
      "source": [
        "import pandas as pd\n",
        "import numpy as np"
      ],
      "metadata": {
        "id": "rHHj-DZt0L-c"
      },
      "execution_count": 41,
      "outputs": []
    },
    {
      "cell_type": "markdown",
      "source": [
        "# **Ejercicio 1**\n",
        "Programa una pregunta al usuario por las ventas de un rango de años y que muestre por pantalla una serie con los datos de las ventas indexadas por los años, antes y despues de aplicarles un descuento del 5%."
      ],
      "metadata": {
        "id": "H-GXpj8b0YXD"
      }
    },
    {
      "cell_type": "code",
      "source": [
        "inicio = int(input('Introduce el año inicial: '))\n",
        "fin = int(input('Introduce el año final: '))\n",
        "ventas = {}\n",
        "for i in range(inicio, fin+1):\n",
        "    ventas[i] = float(input('Introduce las ventas del año ' + str(i) +': '))\n",
        "    ventas = pd.Series(ventas)\n",
        "print(\"Ventas\\n\")\n",
        "print(ventas)\n",
        "print(\"Ventas con descuento\\n\")\n",
        "print(ventas*0.95)\n"
      ],
      "metadata": {
        "colab": {
          "base_uri": "https://localhost:8080/"
        },
        "id": "Dv1O6XQY0bAz",
        "outputId": "3dbe3e5e-c33a-464a-f299-79fc344b9f86"
      },
      "execution_count": 54,
      "outputs": [
        {
          "output_type": "stream",
          "name": "stdout",
          "text": [
            "Introduce el año inicial: 10\n",
            "Introduce el año final: 12\n",
            "Introduce las ventas del año 10: 123\n",
            "Introduce las ventas del año 11: 123\n",
            "Introduce las ventas del año 12: 123\n",
            "Ventas\n",
            "\n",
            "10    123.0\n",
            "11    123.0\n",
            "12    123.0\n",
            "dtype: float64\n",
            "Ventas con descuento\n",
            "\n",
            "10    116.85\n",
            "11    116.85\n",
            "12    116.85\n",
            "dtype: float64\n"
          ]
        }
      ]
    },
    {
      "cell_type": "markdown",
      "source": [],
      "metadata": {
        "id": "CV8yDtYg02WK"
      }
    },
    {
      "cell_type": "markdown",
      "source": [
        "# **TAREA:**\n",
        "Modificar el eercicio anterior para que proyecte los ultimos 10 años pares de ventas"
      ],
      "metadata": {
        "id": "9TjjH2A-5o-L"
      }
    },
    {
      "cell_type": "code",
      "source": [
        "inicio = int(input('Introduce el año inicial: '))\n",
        "fin = int(input('Introduce el año final: '))\n",
        "ventas = {}\n",
        "for i in range(inicio, fin+1):\n",
        "  if i%2 == 0:\n",
        "    ventas[i] = float(input('Introduce las ventas del año ' + str(i) +': '))\n",
        "    ventas = pd.Series(ventas)\n",
        "    ultimos_10 = ventas.sort_index().tail(10)\n",
        "print(\"\\nVentas (últimos 10 años pares):\\n\")\n",
        "print(ultimos_10)\n",
        "print(\"\\nVentas con descuento del 5%:\\n\")\n",
        "print(ultimos_10 * 0.95)\n"
      ],
      "metadata": {
        "id": "FU6LC86f5xHs"
      },
      "execution_count": null,
      "outputs": []
    },
    {
      "cell_type": "markdown",
      "source": [
        "# **Ejercicio 2 :**\n",
        "Càlculo de estadisticas basicas: media, mediana desviacion estandar - numpy para el dataFrame\n"
      ],
      "metadata": {
        "id": "Mvbq_xnnAksN"
      }
    },
    {
      "cell_type": "code",
      "source": [
        "#Crear un dataFrame\n",
        "#Calcular la media\n",
        "data = {'Nombre':['Jose', 'Juan', 'Maria', 'Pedro'],\n",
        "        'Edad':[32, 28, 45, 21],\n",
        "        'Ciudad':['Huancayo', 'Arequipa', 'Trujillo', 'Lima']}\n",
        "df = pd.DataFrame(data)\n",
        "media_edad = np.mean(df['Edad']);\n",
        "print(media_edad)\n",
        "\n",
        "#Calcular la mediana\n",
        "mediana_edad = np.median(df['Edad']);\n",
        "print(mediana_edad)\n",
        "\n",
        "#Calcular la desviacion estandar\n",
        "desviacion_edad = np.std(df['Edad']);\n",
        "print(desviacion_edad)\n",
        "\n",
        "maximo = np.max(df['Edad']);\n",
        "print(maximo)\n",
        "\n",
        "minimo = np.min(df['Edad']);\n",
        "print(minimo)\n"
      ],
      "metadata": {
        "colab": {
          "base_uri": "https://localhost:8080/"
        },
        "id": "CoeHsrHWHOIV",
        "outputId": "180b9967-a289-438c-9438-6e6f29e338d9"
      },
      "execution_count": 52,
      "outputs": [
        {
          "output_type": "stream",
          "name": "stdout",
          "text": [
            "31.5\n",
            "30.0\n",
            "8.73212459828649\n",
            "45\n",
            "21\n"
          ]
        }
      ]
    }
  ]
}